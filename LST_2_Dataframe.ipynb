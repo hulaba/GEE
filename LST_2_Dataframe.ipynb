{
  "nbformat": 4,
  "nbformat_minor": 0,
  "metadata": {
    "colab": {
      "name": "LST_2_Dataframe.ipynb",
      "version": "0.3.2",
      "provenance": [],
      "collapsed_sections": [],
      "toc_visible": true,
      "include_colab_link": true
    },
    "kernelspec": {
      "name": "python3",
      "display_name": "Python 3"
    },
    "accelerator": "TPU"
  },
  "cells": [
    {
      "cell_type": "markdown",
      "metadata": {
        "id": "view-in-github",
        "colab_type": "text"
      },
      "source": [
        "<a href=\"https://colab.research.google.com/github/sgomiz/GEE/blob/master/LST_2_Dataframe.ipynb\" target=\"_parent\"><img src=\"https://colab.research.google.com/assets/colab-badge.svg\" alt=\"Open In Colab\"/></a>"
      ]
    },
    {
      "cell_type": "markdown",
      "metadata": {
        "id": "mtGaGJGqQVhA",
        "colab_type": "text"
      },
      "source": [
        "# Example for getting LST values in a pandas data frame by means of a MODIS satellite image collection\n",
        "\n",
        "---\n",
        "**Author:** Sergio Gómiz Morcillo\n",
        "**Versión:** 0.1\n",
        "**Date:** July 5, 2019\n",
        "\n",
        "**Description:**\n",
        "\n",
        "Following this example we can obtain the LST (Land Surface Temperature) values for a specific data range and region of interest. These data series come from a collection of images from the MODIS satellite (**MODIS/006/MOD11A2**).\n",
        "To get this collection of images. It is necessary to have previously an active GEE account.\n",
        "\n",
        "This example use both geometry possibilites: polygon or point (coordinates) and it should be like the region parameter to the **LST2DF function.**\n",
        "\n",
        "Considerations to bear in mind: GEE API have strengh limitations about size of result dataset (getRegion function) . Raised error . **Too many values**: 42622 points x 10 bands x 685 images > 1048576\n",
        "\n",
        "\n",
        "\n",
        "\n",
        "\n",
        "\n",
        "\n",
        "\n"
      ]
    },
    {
      "cell_type": "code",
      "metadata": {
        "id": "Ql8SJrBMbwLD",
        "colab_type": "code",
        "colab": {}
      },
      "source": [
        "# Show ROI over the map\n",
        "from IPython.display import Image\n",
        "Image(filename=\"ROI_Cadiz.PNG\")"
      ],
      "execution_count": 0,
      "outputs": []
    },
    {
      "cell_type": "markdown",
      "metadata": {
        "id": "78OlMZ8CnCuT",
        "colab_type": "text"
      },
      "source": [
        "# Prerrequisite: Google Earth Engine API"
      ]
    },
    {
      "cell_type": "code",
      "metadata": {
        "id": "7XlNRq14nLwX",
        "colab_type": "code",
        "colab": {}
      },
      "source": [
        "# Installing GEE API\n",
        "!pip install earthengine-api"
      ],
      "execution_count": 0,
      "outputs": []
    },
    {
      "cell_type": "code",
      "metadata": {
        "id": "1qGB2dnpnQob",
        "colab_type": "code",
        "colab": {}
      },
      "source": [
        "# Getting the access token to GEE API\n",
        "!earthengine authenticate"
      ],
      "execution_count": 0,
      "outputs": []
    },
    {
      "cell_type": "markdown",
      "metadata": {
        "id": "eDPm5xBLmXC0",
        "colab_type": "text"
      },
      "source": [
        "# Function LST2DF\n",
        "Own function to encapsulate all core coding, in order to get to MODIS images collection (**MODIS/006/MOD11A2**) and to get the LST data series."
      ]
    },
    {
      "cell_type": "code",
      "metadata": {
        "id": "Q-8Y2IEq3Zae",
        "colab_type": "code",
        "colab": {}
      },
      "source": [
        "def  LST2DF(coordinates, region, date_start, end_date):\n",
        "  #Get the LST (Land Surface Temperature) from MODIS Satellite via Google Earth Engine\n",
        "  #coordinates : array of coordinates long/lat\n",
        "  #region : polygon or point values\n",
        "  #date_start : Starting Date for setup date range\n",
        "  #end_date : Ending Date for setup date range \n",
        " \n",
        "  # Define the type of geometry for setting properly the region coordinates\n",
        "  if region == 'polygon' :\n",
        "      ROI = ee.Geometry.Polygon(coordinates)\n",
        "  elif region == 'point' :  \n",
        "      ROI = ee.Geometry.Point(coordinates)\n",
        "  else:\n",
        "      raise KeyError('Wrong region value, allowed values are polygon or point')\n",
        "\n",
        "  # Define the image (scala 1000)\n",
        "  img = ee.ImageCollection('MODIS/006/MOD11A2').filterDate(date_start, end_date)\n",
        "  result = img.select('LST_Day_1km').getRegion(ROI,1000).getInfo()\n",
        "\n",
        "  # Export to dataframe\n",
        "  df_LST = pd.DataFrame(result[1:])\n",
        "  df_LST.columns = result[0]\n",
        "  \n",
        "  # Switching LST from Kelvin to Celsius\n",
        "  df_LST['LST_Celsius'] = df_LST.groupby(['id']).transform(sum)['LST_Day_1km'] * 0.02-273.15\n",
        "   \n",
        "  \n",
        "  return df_LST\n"
      ],
      "execution_count": 0,
      "outputs": []
    },
    {
      "cell_type": "markdown",
      "metadata": {
        "id": "156HEM1gnaLr",
        "colab_type": "text"
      },
      "source": [
        "# Testing Function Code\n",
        "Coordinates define a Region Of Interest (ROI) to collect some data series from a specific region over the map."
      ]
    },
    {
      "cell_type": "code",
      "metadata": {
        "colab_type": "code",
        "outputId": "0e6df6f9-6928-4676-af90-870fb24fce1d",
        "id": "Y1s44IsrrjRg",
        "colab": {
          "base_uri": "https://localhost:8080/",
          "height": 483
        }
      },
      "source": [
        "# Main Program Code to call function NDVI2DF\n",
        "\n",
        "# Gettting Date Range\n",
        "date_start = ee.Date('2019-03-01')\n",
        "end_date = ee.Date('2019-06-30')\n",
        "\n",
        "# Setting type of geometry for region of interest (point or polygon)\n",
        "region = 'point'\n",
        "\n",
        "# Getting ROI through array of coordinates (point of polygon)\n",
        "coordinates = [6.134136, 49.612485]\n",
        "#coordinates = [[-6.151065585896504, 36.29423686205435],\n",
        "#          [-6.035709140584004, 36.19012306037972],\n",
        "#          [-5.601749179646504, 36.00370222379312],\n",
        "#          [-5.313358066365254, 36.21228654591974],\n",
        "#          [-5.516605136677754, 36.87866023265441],\n",
        "#          [-6.428470371052754, 36.73131853399765]]\n",
        "\n",
        "df_LST = LST2DF (coordinates, region, date_start, end_date)\n",
        "df_LST"
      ],
      "execution_count": 0,
      "outputs": [
        {
          "output_type": "execute_result",
          "data": {
            "text/html": [
              "<div>\n",
              "<style scoped>\n",
              "    .dataframe tbody tr th:only-of-type {\n",
              "        vertical-align: middle;\n",
              "    }\n",
              "\n",
              "    .dataframe tbody tr th {\n",
              "        vertical-align: top;\n",
              "    }\n",
              "\n",
              "    .dataframe thead th {\n",
              "        text-align: right;\n",
              "    }\n",
              "</style>\n",
              "<table border=\"1\" class=\"dataframe\">\n",
              "  <thead>\n",
              "    <tr style=\"text-align: right;\">\n",
              "      <th></th>\n",
              "      <th>id</th>\n",
              "      <th>longitude</th>\n",
              "      <th>latitude</th>\n",
              "      <th>time</th>\n",
              "      <th>LST_Day_1km</th>\n",
              "      <th>LST_Celsius</th>\n",
              "    </tr>\n",
              "  </thead>\n",
              "  <tbody>\n",
              "    <tr>\n",
              "      <th>0</th>\n",
              "      <td>2019_03_06</td>\n",
              "      <td>6.131002</td>\n",
              "      <td>49.609462</td>\n",
              "      <td>1551830400000</td>\n",
              "      <td>14186</td>\n",
              "      <td>10.57</td>\n",
              "    </tr>\n",
              "    <tr>\n",
              "      <th>1</th>\n",
              "      <td>2019_03_14</td>\n",
              "      <td>6.131002</td>\n",
              "      <td>49.609462</td>\n",
              "      <td>1552521600000</td>\n",
              "      <td>14512</td>\n",
              "      <td>17.09</td>\n",
              "    </tr>\n",
              "    <tr>\n",
              "      <th>2</th>\n",
              "      <td>2019_03_22</td>\n",
              "      <td>6.131002</td>\n",
              "      <td>49.609462</td>\n",
              "      <td>1553212800000</td>\n",
              "      <td>14500</td>\n",
              "      <td>16.85</td>\n",
              "    </tr>\n",
              "    <tr>\n",
              "      <th>3</th>\n",
              "      <td>2019_03_30</td>\n",
              "      <td>6.131002</td>\n",
              "      <td>49.609462</td>\n",
              "      <td>1553904000000</td>\n",
              "      <td>14697</td>\n",
              "      <td>20.79</td>\n",
              "    </tr>\n",
              "    <tr>\n",
              "      <th>4</th>\n",
              "      <td>2019_04_07</td>\n",
              "      <td>6.131002</td>\n",
              "      <td>49.609462</td>\n",
              "      <td>1554595200000</td>\n",
              "      <td>14547</td>\n",
              "      <td>17.79</td>\n",
              "    </tr>\n",
              "    <tr>\n",
              "      <th>5</th>\n",
              "      <td>2019_04_15</td>\n",
              "      <td>6.131002</td>\n",
              "      <td>49.609462</td>\n",
              "      <td>1555286400000</td>\n",
              "      <td>14957</td>\n",
              "      <td>25.99</td>\n",
              "    </tr>\n",
              "    <tr>\n",
              "      <th>6</th>\n",
              "      <td>2019_04_23</td>\n",
              "      <td>6.131002</td>\n",
              "      <td>49.609462</td>\n",
              "      <td>1555977600000</td>\n",
              "      <td>14835</td>\n",
              "      <td>23.55</td>\n",
              "    </tr>\n",
              "    <tr>\n",
              "      <th>7</th>\n",
              "      <td>2019_05_01</td>\n",
              "      <td>6.131002</td>\n",
              "      <td>49.609462</td>\n",
              "      <td>1556668800000</td>\n",
              "      <td>14993</td>\n",
              "      <td>26.71</td>\n",
              "    </tr>\n",
              "    <tr>\n",
              "      <th>8</th>\n",
              "      <td>2019_05_09</td>\n",
              "      <td>6.131002</td>\n",
              "      <td>49.609462</td>\n",
              "      <td>1557360000000</td>\n",
              "      <td>14728</td>\n",
              "      <td>21.41</td>\n",
              "    </tr>\n",
              "    <tr>\n",
              "      <th>9</th>\n",
              "      <td>2019_05_17</td>\n",
              "      <td>6.131002</td>\n",
              "      <td>49.609462</td>\n",
              "      <td>1558051200000</td>\n",
              "      <td>15177</td>\n",
              "      <td>30.39</td>\n",
              "    </tr>\n",
              "    <tr>\n",
              "      <th>10</th>\n",
              "      <td>2019_05_25</td>\n",
              "      <td>6.131002</td>\n",
              "      <td>49.609462</td>\n",
              "      <td>1558742400000</td>\n",
              "      <td>14958</td>\n",
              "      <td>26.01</td>\n",
              "    </tr>\n",
              "    <tr>\n",
              "      <th>11</th>\n",
              "      <td>2019_06_02</td>\n",
              "      <td>6.131002</td>\n",
              "      <td>49.609462</td>\n",
              "      <td>1559433600000</td>\n",
              "      <td>15323</td>\n",
              "      <td>33.31</td>\n",
              "    </tr>\n",
              "    <tr>\n",
              "      <th>12</th>\n",
              "      <td>2019_06_10</td>\n",
              "      <td>6.131002</td>\n",
              "      <td>49.609462</td>\n",
              "      <td>1560124800000</td>\n",
              "      <td>15146</td>\n",
              "      <td>29.77</td>\n",
              "    </tr>\n",
              "    <tr>\n",
              "      <th>13</th>\n",
              "      <td>2019_06_18</td>\n",
              "      <td>6.131002</td>\n",
              "      <td>49.609462</td>\n",
              "      <td>1560816000000</td>\n",
              "      <td>15270</td>\n",
              "      <td>32.25</td>\n",
              "    </tr>\n",
              "  </tbody>\n",
              "</table>\n",
              "</div>"
            ],
            "text/plain": [
              "            id  longitude   latitude           time  LST_Day_1km  LST_Celsius\n",
              "0   2019_03_06   6.131002  49.609462  1551830400000        14186        10.57\n",
              "1   2019_03_14   6.131002  49.609462  1552521600000        14512        17.09\n",
              "2   2019_03_22   6.131002  49.609462  1553212800000        14500        16.85\n",
              "3   2019_03_30   6.131002  49.609462  1553904000000        14697        20.79\n",
              "4   2019_04_07   6.131002  49.609462  1554595200000        14547        17.79\n",
              "5   2019_04_15   6.131002  49.609462  1555286400000        14957        25.99\n",
              "6   2019_04_23   6.131002  49.609462  1555977600000        14835        23.55\n",
              "7   2019_05_01   6.131002  49.609462  1556668800000        14993        26.71\n",
              "8   2019_05_09   6.131002  49.609462  1557360000000        14728        21.41\n",
              "9   2019_05_17   6.131002  49.609462  1558051200000        15177        30.39\n",
              "10  2019_05_25   6.131002  49.609462  1558742400000        14958        26.01\n",
              "11  2019_06_02   6.131002  49.609462  1559433600000        15323        33.31\n",
              "12  2019_06_10   6.131002  49.609462  1560124800000        15146        29.77\n",
              "13  2019_06_18   6.131002  49.609462  1560816000000        15270        32.25"
            ]
          },
          "metadata": {
            "tags": []
          },
          "execution_count": 13
        }
      ]
    }
  ]
}