{
  "nbformat": 4,
  "nbformat_minor": 0,
  "metadata": {
    "colab": {
      "name": "NDVI_2_Dataframe.ipynb",
      "version": "0.3.2",
      "provenance": [],
      "collapsed_sections": [],
      "toc_visible": true,
      "include_colab_link": true
    },
    "kernelspec": {
      "name": "python3",
      "display_name": "Python 3"
    },
    "accelerator": "TPU"
  },
  "cells": [
    {
      "cell_type": "markdown",
      "metadata": {
        "id": "view-in-github",
        "colab_type": "text"
      },
      "source": [
        "<a href=\"https://colab.research.google.com/github/sgomiz/GEE/blob/master/NDVI_2_Dataframe.ipynb\" target=\"_parent\"><img src=\"https://colab.research.google.com/assets/colab-badge.svg\" alt=\"Open In Colab\"/></a>"
      ]
    },
    {
      "cell_type": "markdown",
      "metadata": {
        "id": "Zifi8McZkG24",
        "colab_type": "text"
      },
      "source": [
        " # Example for getting  NDVI values in a pandas data frame by means of a MODIS satellite image collection\n",
        "\n",
        "---\n",
        "**Author:** Sergio Gómiz Morcillo\n",
        "**Versión:** 0.1\n",
        "**Date:** July 5, 2019\n",
        "\n",
        "**Description:**\n",
        "\n",
        "Following this example we can obtain the NDVI (Index of Vegetation in Normarized Differences) values for a specific data range and region of interest. These data series come from a collection of images from the MODIS satellite (**MOD IS/MCD43A4_006_NDVI**)\n",
        "To get this collection of images. It is necessary to have previously an active GEE account.\n",
        "\n",
        "This example use both geometry possibilites: polygon or point (coordinates) and it should be like the region parameter to the **NDVI2DF function**.\n",
        "\n",
        "Considerations to bear in mind: GEE API have strengh limitations about size of result dataset (getRegion function) . **Raised** error . **Too many values**: 42622 points x 10 bands x 685 images > ***1048576***"
      ]
    },
    {
      "cell_type": "code",
      "metadata": {
        "id": "HBbEC6Fbk3Wu",
        "colab_type": "code",
        "colab": {}
      },
      "source": [
        "# Show ROI over the map\n",
        "from IPython.display import Image\n",
        "Image(filename=\"ROI_Cadiz.PNG\")"
      ],
      "execution_count": 0,
      "outputs": []
    },
    {
      "cell_type": "markdown",
      "metadata": {
        "id": "TpV3RlAqpIQI",
        "colab_type": "text"
      },
      "source": [
        "# Prerrequisite: Google Earth Engine API"
      ]
    },
    {
      "cell_type": "code",
      "metadata": {
        "id": "7XlNRq14nLwX",
        "colab_type": "code",
        "colab": {}
      },
      "source": [
        "# Installing GEE API\n",
        "!pip install earthengine-api"
      ],
      "execution_count": 0,
      "outputs": []
    },
    {
      "cell_type": "code",
      "metadata": {
        "id": "1qGB2dnpnQob",
        "colab_type": "code",
        "colab": {}
      },
      "source": [
        "# Getting the access token to GEE API\n",
        "!earthengine authenticate"
      ],
      "execution_count": 0,
      "outputs": []
    },
    {
      "cell_type": "code",
      "metadata": {
        "id": "lA1fN_oI3dZH",
        "colab_type": "code",
        "colab": {}
      },
      "source": [
        "import ee, datetime\n",
        "import numpy as np\n",
        "import pandas as pd\n",
        "\n",
        "# Initalization of Google Earth Engine API\n",
        "ee.Initialize()"
      ],
      "execution_count": 0,
      "outputs": []
    },
    {
      "cell_type": "markdown",
      "metadata": {
        "id": "2-R8VqUEpQ7x",
        "colab_type": "text"
      },
      "source": [
        "# Function NDVI2DF\n",
        "Own function to encapsulate all core coding, in order to get to the MODIS images collection (**MODIS/MCD43A4_006_NDVI**) and to get the NDVI data series."
      ]
    },
    {
      "cell_type": "code",
      "metadata": {
        "id": "Q-8Y2IEq3Zae",
        "colab_type": "code",
        "colab": {}
      },
      "source": [
        "def  NDVI2DF(coordinates, region, date_start, end_date):\n",
        "  #Get the NDVI (Normalised Difference Vegetation Index) from MODIS Satellite via Google Earth Engine\n",
        "  #coordinates : array of coordinates long/lat\n",
        "  #region : polygon or point values\n",
        "  #date_start : Starting Date for setup date range\n",
        "  #end_date : Ending Date for setup date range \n",
        " \n",
        "  # Define the type of geometry for setting properly the region coordinates\n",
        "  if region == 'polygon' :\n",
        "      ROI = ee.Geometry.Polygon(coordinates)\n",
        "  elif region == 'point' :  \n",
        "      ROI = ee.Geometry.Point(coordinates)\n",
        "  else:\n",
        "      raise KeyError('Wrong region value, allowed values are polygon or point')\n",
        "\n",
        "\n",
        "  # Define the image (scala 1000)\n",
        "  img = ee.ImageCollection('MODIS/MCD43A4_006_NDVI').filterDate(date_start, end_date)\n",
        "  result = img.select('NDVI').getRegion(ROI,1000).getInfo()\n",
        "\n",
        "\n",
        "  # Export to dataframe\n",
        "  df_NDVI = pd.DataFrame(result[1:])\n",
        "  df_NDVI.columns = result[0]\n",
        "  \n",
        "  return df_NDVI\n"
      ],
      "execution_count": 0,
      "outputs": []
    },
    {
      "cell_type": "markdown",
      "metadata": {
        "id": "J8kLrIMjpjAU",
        "colab_type": "text"
      },
      "source": [
        "# Testing Function Code\n",
        "Coordinates define a Region Of Interest (ROI) to collect some data series from a specific region over the map."
      ]
    },
    {
      "cell_type": "code",
      "metadata": {
        "colab_type": "code",
        "outputId": "cadc0044-3084-4341-ac41-008f4b5453e3",
        "id": "Y1s44IsrrjRg",
        "colab": {
          "base_uri": "https://localhost:8080/",
          "height": 34
        }
      },
      "source": [
        "# Main Program Code to call function NDVI2DF\n",
        "\n",
        "# Gettting Date Range\n",
        "date_start = ee.Date('2019-03-01')\n",
        "end_date = ee.Date('2019-06-30')\n",
        "\n",
        "# Setting type of geometry for region of interest (point or polygon)\n",
        "region = 'point'\n",
        "\n",
        "# Getting ROI through array of coordinates (point of polygon)\n",
        "coordinates = [6.134136, 49.612485]\n",
        "#coordinates = [[-6.151065585896504, 36.29423686205435],\n",
        "#          [-6.035709140584004, 36.19012306037972],\n",
        "#          [-5.601749179646504, 36.00370222379312],\n",
        "#          [-5.313358066365254, 36.21228654591974],\n",
        "#          [-5.516605136677754, 36.87866023265441],\n",
        "#          [-6.428470371052754, 36.73131853399765]]\n",
        "\n",
        "df_result = NDVI2DF (coordinates, region, date_start, end_date)\n",
        "\n"
      ],
      "execution_count": 45,
      "outputs": [
        {
          "output_type": "execute_result",
          "data": {
            "text/plain": [
              "(114, 5)"
            ]
          },
          "metadata": {
            "tags": []
          },
          "execution_count": 45
        }
      ]
    }
  ]
}